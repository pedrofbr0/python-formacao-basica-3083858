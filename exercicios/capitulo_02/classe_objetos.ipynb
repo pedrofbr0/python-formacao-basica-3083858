{
 "cells": [
  {
   "cell_type": "markdown",
   "metadata": {},
   "source": [
    "- Crie uma classe com 3 atributos"
   ]
  },
  {
   "cell_type": "code",
   "execution_count": 2,
   "metadata": {},
   "outputs": [
    {
     "name": "stdout",
     "output_type": "stream",
     "text": [
      "vermelha 29 True\n"
     ]
    }
   ],
   "source": [
    "class Bike:\n",
    "    def __init__(self):\n",
    "        self.cor = 'vermelha'\n",
    "        self.aro = 29\n",
    "        self.temMarcha = True\n",
    "\n",
    "caloizinha = Bike()\n",
    "\n",
    "print(caloizinha.cor, caloizinha.aro, caloizinha.temMarcha)"
   ]
  },
  {
   "cell_type": "markdown",
   "metadata": {},
   "source": [
    "- Defina um método para a classe"
   ]
  },
  {
   "cell_type": "code",
   "execution_count": 4,
   "metadata": {},
   "outputs": [
    {
     "name": "stdout",
     "output_type": "stream",
     "text": [
      "BIP BIP!!!\n"
     ]
    }
   ],
   "source": [
    "class Bike:\n",
    "    def __init__(self):\n",
    "        self.cor = 'vermelha'\n",
    "        self.aro = 29\n",
    "        self.temMarcha = True\n",
    "    \n",
    "    def buzinar(self):\n",
    "        print(\"BIP BIP!!!\")\n",
    "\n",
    "caloizinha = Bike()\n",
    "caloizinha.buzinar()\n"
   ]
  },
  {
   "cell_type": "markdown",
   "metadata": {},
   "source": [
    "- Instancie a classe"
   ]
  },
  {
   "cell_type": "code",
   "execution_count": 5,
   "metadata": {},
   "outputs": [
    {
     "name": "stdout",
     "output_type": "stream",
     "text": [
      "<__main__.Bike object at 0x783d4ea28190>\n"
     ]
    }
   ],
   "source": [
    "class Bike:\n",
    "    def __init__(self):\n",
    "        self.cor = 'vermelha'\n",
    "        self.aro = 29\n",
    "        self.temMarcha = True\n",
    "    \n",
    "    def buzinar(self):\n",
    "        print(\"BIP BIP!!!\")\n",
    "\n",
    "caloizinha = Bike()\n",
    "\n",
    "print(caloizinha)"
   ]
  },
  {
   "cell_type": "markdown",
   "metadata": {},
   "source": [
    "- Execute o método"
   ]
  },
  {
   "cell_type": "code",
   "execution_count": 6,
   "metadata": {},
   "outputs": [
    {
     "name": "stdout",
     "output_type": "stream",
     "text": [
      "BIP BIP!!!\n"
     ]
    }
   ],
   "source": [
    "class Bike:\n",
    "    def __init__(self):\n",
    "        self.cor = 'vermelha'\n",
    "        self.aro = 29\n",
    "        self.temMarcha = True\n",
    "    \n",
    "    def buzinar(self):\n",
    "        print(\"BIP BIP!!!\")\n",
    "\n",
    "caloizinha = Bike()\n",
    "caloizinha.buzinar()"
   ]
  }
 ],
 "metadata": {
  "kernelspec": {
   "display_name": "Python 3.11.0 64-bit",
   "language": "python",
   "name": "python3"
  },
  "language_info": {
   "codemirror_mode": {
    "name": "ipython",
    "version": 3
   },
   "file_extension": ".py",
   "mimetype": "text/x-python",
   "name": "python",
   "nbconvert_exporter": "python",
   "pygments_lexer": "ipython3",
   "version": "3.10.13"
  },
  "orig_nbformat": 4,
  "vscode": {
   "interpreter": {
    "hash": "1a1af0ee75eeea9e2e1ee996c87e7a2b11a0bebd85af04bb136d915cefc0abce"
   }
  }
 },
 "nbformat": 4,
 "nbformat_minor": 2
}
