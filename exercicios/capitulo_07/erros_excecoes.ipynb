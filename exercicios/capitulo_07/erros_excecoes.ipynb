{
 "cells": [
  {
   "attachments": {},
   "cell_type": "markdown",
   "metadata": {},
   "source": [
    "- Crie tratamento para as exceções: ZeroDivisionError e TypeError usando a sintaxe try...except...finally\n"
   ]
  },
  {
   "cell_type": "code",
   "execution_count": 21,
   "metadata": {},
   "outputs": [
    {
     "name": "stdout",
     "output_type": "stream",
     "text": [
      "0.3556632762878733\n",
      "fim da execução\n"
     ]
    }
   ],
   "source": [
    "from random import random, randrange\n",
    "\n",
    "lista = [1,0,3,0,'a','b',0,'c']\n",
    "\n",
    "try:\n",
    "    x = random() / lista[randrange(8)]\n",
    "    print(x)\n",
    "\n",
    "except ZeroDivisionError:\n",
    "    print('jamais dividirás por zero')\n",
    "\n",
    "except TypeError:\n",
    "    print('jamais dividirárs por string alfabética')\n",
    "\n",
    "finally:\n",
    "    print('fim da execução')"
   ]
  }
 ],
 "metadata": {
  "kernelspec": {
   "display_name": "Python 3",
   "language": "python",
   "name": "python3"
  },
  "language_info": {
   "codemirror_mode": {
    "name": "ipython",
    "version": 3
   },
   "file_extension": ".py",
   "mimetype": "text/x-python",
   "name": "python",
   "nbconvert_exporter": "python",
   "pygments_lexer": "ipython3",
   "version": "3.10.13"
  },
  "orig_nbformat": 4,
  "vscode": {
   "interpreter": {
    "hash": "916dbcbb3f70747c44a77c7bcd40155683ae19c65e1c03b4aa3499c5328201f1"
   }
  }
 },
 "nbformat": 4,
 "nbformat_minor": 2
}
