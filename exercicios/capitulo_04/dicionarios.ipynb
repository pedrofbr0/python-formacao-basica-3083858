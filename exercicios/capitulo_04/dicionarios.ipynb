{
 "cells": [
  {
   "attachments": {},
   "cell_type": "markdown",
   "metadata": {},
   "source": [
    "- Crie um dicionário\n"
   ]
  },
  {
   "cell_type": "code",
   "execution_count": 2,
   "metadata": {},
   "outputs": [
    {
     "name": "stdout",
     "output_type": "stream",
     "text": [
      "{'bradesco': 234010, 'BB': '12315-1', 'PicPay': 53923}\n"
     ]
    }
   ],
   "source": [
    "contas = {'bradesco': 234010,'BB': '12315-1', 'PicPay': 53925-2}\n",
    "\n",
    "print(contas)"
   ]
  },
  {
   "attachments": {},
   "cell_type": "markdown",
   "metadata": {},
   "source": [
    "- Faça uma lista com as chaves do dicionário criado\n"
   ]
  },
  {
   "cell_type": "code",
   "execution_count": 7,
   "metadata": {},
   "outputs": [
    {
     "name": "stdout",
     "output_type": "stream",
     "text": [
      "['bradesco', 'BB', 'PicPay']\n"
     ]
    }
   ],
   "source": [
    "chaves = list(contas.keys())\n",
    "\n",
    "print(chaves)"
   ]
  },
  {
   "attachments": {},
   "cell_type": "markdown",
   "metadata": {},
   "source": [
    "- Faça um objeto iterável com os valores do dicionário criado\n"
   ]
  },
  {
   "cell_type": "code",
   "execution_count": 9,
   "metadata": {},
   "outputs": [
    {
     "name": "stdout",
     "output_type": "stream",
     "text": [
      "dict_values([234010, '12315-1', 53923])\n"
     ]
    }
   ],
   "source": [
    "valores = contas.values()\n",
    "\n",
    "print(valores)"
   ]
  },
  {
   "attachments": {},
   "cell_type": "markdown",
   "metadata": {},
   "source": [
    "- Localize o valor correspondente a uma chave do dicionário\n"
   ]
  },
  {
   "cell_type": "code",
   "execution_count": 10,
   "metadata": {},
   "outputs": [
    {
     "name": "stdout",
     "output_type": "stream",
     "text": [
      "234010\n"
     ]
    }
   ],
   "source": [
    "print(contas['bradesco'])"
   ]
  },
  {
   "attachments": {},
   "cell_type": "markdown",
   "metadata": {},
   "source": [
    "- Insira um novo par de chave-valor no dicionário\n"
   ]
  },
  {
   "cell_type": "code",
   "execution_count": 11,
   "metadata": {},
   "outputs": [
    {
     "name": "stdout",
     "output_type": "stream",
     "text": [
      "{'bradesco': 234010, 'BB': '12315-1', 'PicPay': 53923, 'PagSeguro': 234490}\n"
     ]
    }
   ],
   "source": [
    "contas['PagSeguro'] = 234490\n",
    "\n",
    "print(contas)"
   ]
  },
  {
   "attachments": {},
   "cell_type": "markdown",
   "metadata": {},
   "source": [
    "- Usando o módulo collections, crie um dicionário cujos o valor padrão serão listas\n"
   ]
  },
  {
   "cell_type": "code",
   "execution_count": 17,
   "metadata": {},
   "outputs": [
    {
     "name": "stdout",
     "output_type": "stream",
     "text": [
      "defaultdict(<class 'list'>, {})\n"
     ]
    }
   ],
   "source": [
    "from collections import defaultdict\n",
    "\n",
    "compras = defaultdict(list)\n",
    "\n",
    "print(compras)"
   ]
  },
  {
   "attachments": {},
   "cell_type": "markdown",
   "metadata": {},
   "source": [
    "- Adicione um novo par de chave-valor no dicionário de listas\n"
   ]
  },
  {
   "cell_type": "code",
   "execution_count": 19,
   "metadata": {},
   "outputs": [
    {
     "name": "stdout",
     "output_type": "stream",
     "text": [
      "defaultdict(<class 'list'>, {'supermercado': ['2 dúzias de ovos', '2 litros de leite', 'carne de soja', '2 dúzias de ovos', '2 litros de leite', 'carne de soja']})\n"
     ]
    }
   ],
   "source": [
    "compras['supermercado'].extend(['2 dúzias de ovos', '2 litros de leite', 'carne de soja'])\n",
    "\n",
    "print(compras)"
   ]
  },
  {
   "attachments": {},
   "cell_type": "markdown",
   "metadata": {},
   "source": [
    "- Localize um valor da lista correspondente a uma chave do dicionário de listas"
   ]
  },
  {
   "cell_type": "code",
   "execution_count": 22,
   "metadata": {},
   "outputs": [
    {
     "name": "stdout",
     "output_type": "stream",
     "text": [
      "2 dúzias de ovos\n"
     ]
    }
   ],
   "source": [
    "print(compras['supermercado'][0])"
   ]
  },
  {
   "cell_type": "code",
   "execution_count": 24,
   "metadata": {},
   "outputs": [
    {
     "name": "stdout",
     "output_type": "stream",
     "text": [
      "{'bradesco': 234010, 'BB': '12315-1', 'PicPay': 53923, 'PagSeguro': 234490, 'emails': ['johndoe@gmail.com', 'jennydoe@hotmail.com']}\n",
      "jennydoe@hotmail.com\n"
     ]
    }
   ],
   "source": [
    "contas['emails'] = ['johndoe@gmail.com','jennydoe@hotmail.com']\n",
    "\n",
    "print(contas)\n",
    "\n",
    "print(contas['emails'][-1])"
   ]
  }
 ],
 "metadata": {
  "kernelspec": {
   "display_name": "Python 3",
   "language": "python",
   "name": "python3"
  },
  "language_info": {
   "codemirror_mode": {
    "name": "ipython",
    "version": 3
   },
   "file_extension": ".py",
   "mimetype": "text/x-python",
   "name": "python",
   "nbconvert_exporter": "python",
   "pygments_lexer": "ipython3",
   "version": "3.10.13"
  },
  "orig_nbformat": 4,
  "vscode": {
   "interpreter": {
    "hash": "916dbcbb3f70747c44a77c7bcd40155683ae19c65e1c03b4aa3499c5328201f1"
   }
  }
 },
 "nbformat": 4,
 "nbformat_minor": 2
}
