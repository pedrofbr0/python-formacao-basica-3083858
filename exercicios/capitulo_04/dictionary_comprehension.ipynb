{
 "cells": [
  {
   "attachments": {},
   "cell_type": "markdown",
   "metadata": {},
   "source": [
    "- Crie uma lista\n"
   ]
  },
  {
   "cell_type": "code",
   "execution_count": 5,
   "metadata": {},
   "outputs": [
    {
     "name": "stdout",
     "output_type": "stream",
     "text": [
      "['um', 'dois', 'três', 'quatro', 'cinco']\n"
     ]
    }
   ],
   "source": [
    "lista = ['um','dois','três','quatro','cinco']\n",
    "\n",
    "print(lista)\n"
   ]
  },
  {
   "attachments": {},
   "cell_type": "markdown",
   "metadata": {},
   "source": [
    "- Usando o recurso dictionary comprehension, crie um dicionário cuja a chave é o comprimento do item e o valor, o próprio item da lista.\n"
   ]
  },
  {
   "cell_type": "code",
   "execution_count": 6,
   "metadata": {},
   "outputs": [
    {
     "name": "stdout",
     "output_type": "stream",
     "text": [
      "{'2-um': 'um', '4-dois': 'dois', '4-três': 'três', '6-quatro': 'quatro', '5-cinco': 'cinco'}\n"
     ]
    }
   ],
   "source": [
    "lista_dict = {f'{len(item)}-{item}': item for item in lista}\n",
    "\n",
    "print(lista_dict)"
   ]
  },
  {
   "attachments": {},
   "cell_type": "markdown",
   "metadata": {},
   "source": [
    "- Crie uma lista de tuplas\n"
   ]
  },
  {
   "cell_type": "code",
   "execution_count": 8,
   "metadata": {},
   "outputs": [
    {
     "name": "stdout",
     "output_type": "stream",
     "text": [
      "[('banana', 'amarelo'), ('maçã', 'vermelho'), ('morango', 'vermelho')]\n"
     ]
    }
   ],
   "source": [
    "tuplas = [('banana', 'amarelo'), ('maçã', 'vermelho'), ('morango', 'vermelho')]\n",
    "\n",
    "print(tuplas)"
   ]
  },
  {
   "attachments": {},
   "cell_type": "markdown",
   "metadata": {},
   "source": [
    "- Usando o recurso dictionary comprehension, crie um dicionário cuja a chave é o primeiro item da tupla e o valor, o segundo\n"
   ]
  },
  {
   "cell_type": "code",
   "execution_count": 9,
   "metadata": {},
   "outputs": [
    {
     "name": "stdout",
     "output_type": "stream",
     "text": [
      "{'banana': 'amarelo', 'maçã': 'vermelho', 'morango': 'vermelho'}\n"
     ]
    }
   ],
   "source": [
    "frutas_dict = {primeiro: segundo for primeiro, segundo in tuplas}\n",
    "\n",
    "print(frutas_dict)"
   ]
  },
  {
   "attachments": {},
   "cell_type": "markdown",
   "metadata": {},
   "source": [
    "- Crie um dicionário\n"
   ]
  },
  {
   "cell_type": "code",
   "execution_count": 13,
   "metadata": {},
   "outputs": [
    {
     "name": "stdout",
     "output_type": "stream",
     "text": [
      "{'pedro': 2, 'isa': 3, 'joão': 7, 'gustavo': '', 'lucas': 'sim'}\n"
     ]
    }
   ],
   "source": [
    "vitórias_dict = {'pedro': 2, 'isa': 3, 'joão': 7, 'gustavo': '', 'lucas': 'sim'}\n",
    "\n",
    "print(vitórias_dict)\n"
   ]
  },
  {
   "attachments": {},
   "cell_type": "markdown",
   "metadata": {},
   "source": [
    "- Usando o recurso dictionary comprehension, crie um novo dicionário cuja a chave é uma maniputação do valor\n"
   ]
  },
  {
   "cell_type": "code",
   "execution_count": 15,
   "metadata": {},
   "outputs": [
    {
     "name": "stdout",
     "output_type": "stream",
     "text": [
      "{4: 2, 6: 3, 14: 7, '': '', 'simsim': 'sim'}\n",
      "{4: 2, 6: 3, 14: 7, '': '', 'simsim': 'sim'}\n"
     ]
    }
   ],
   "source": [
    "vitórias_dict_alterado = {valor*2 : valor for chave,valor in vitórias_dict.items()}\n",
    "\n",
    "print(vitórias_dict_alterado)\n",
    "\n",
    "vitórias_dict_alterado = {valor*2 : valor for valor in vitórias_dict.values()}\n",
    "\n",
    "print(vitórias_dict_alterado)"
   ]
  },
  {
   "attachments": {},
   "cell_type": "markdown",
   "metadata": {},
   "source": [
    "- Usando o recurso dictionary comprehension, crie um dicionário só com chaves com commprimento menor ou igual a 3\n"
   ]
  },
  {
   "cell_type": "code",
   "execution_count": 17,
   "metadata": {},
   "outputs": [
    {
     "name": "stdout",
     "output_type": "stream",
     "text": [
      "{'isa': 3}\n"
     ]
    }
   ],
   "source": [
    "vitórias_dict_alt_menor_igual_3 = {chave:valor for chave,valor in vitórias_dict.items() if len(chave) <= 3}\n",
    "\n",
    "print(vitórias_dict_alt_menor_igual_3)"
   ]
  }
 ],
 "metadata": {
  "kernelspec": {
   "display_name": "Python 3",
   "language": "python",
   "name": "python3"
  },
  "language_info": {
   "codemirror_mode": {
    "name": "ipython",
    "version": 3
   },
   "file_extension": ".py",
   "mimetype": "text/x-python",
   "name": "python",
   "nbconvert_exporter": "python",
   "pygments_lexer": "ipython3",
   "version": "3.10.13"
  },
  "orig_nbformat": 4,
  "vscode": {
   "interpreter": {
    "hash": "916dbcbb3f70747c44a77c7bcd40155683ae19c65e1c03b4aa3499c5328201f1"
   }
  }
 },
 "nbformat": 4,
 "nbformat_minor": 2
}
