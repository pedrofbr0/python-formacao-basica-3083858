{
 "cells": [
  {
   "attachments": {},
   "cell_type": "markdown",
   "metadata": {},
   "source": [
    "- Crie uma lista com 30 dados do tipo numérico\n"
   ]
  },
  {
   "cell_type": "code",
   "execution_count": 4,
   "metadata": {},
   "outputs": [
    {
     "name": "stdout",
     "output_type": "stream",
     "text": [
      "[0, 1, 2, 3, 4, 5, 6, 7, 8, 9, 10, 11, 12, 13, 14, 15, 16, 17, 18, 19, 20, 21, 22, 23, 24, 25, 26, 27, 28, 29, 30]\n"
     ]
    }
   ],
   "source": [
    "lista_num = list(range(31))\n",
    "\n",
    "print(lista_num)"
   ]
  },
  {
   "attachments": {},
   "cell_type": "markdown",
   "metadata": {},
   "source": [
    "- Dentro de um for loop, crie uma estrutura condicional que imprima na tela o número, caso ele seja menor do que 20. Se o número for 20, imprima 'Esse número é igual a 20.’ e se for maior do que 20, imprima ‘Esse número é maior do que 20.’\n"
   ]
  },
  {
   "cell_type": "code",
   "execution_count": 5,
   "metadata": {},
   "outputs": [
    {
     "name": "stdout",
     "output_type": "stream",
     "text": [
      "0\n",
      "1\n",
      "2\n",
      "3\n",
      "4\n",
      "5\n",
      "6\n",
      "7\n",
      "8\n",
      "9\n",
      "10\n",
      "11\n",
      "12\n",
      "13\n",
      "14\n",
      "15\n",
      "16\n",
      "17\n",
      "18\n",
      "19\n",
      "Esse número é igal a 20\n",
      "Esse número é maior que 20\n",
      "Esse número é maior que 20\n",
      "Esse número é maior que 20\n",
      "Esse número é maior que 20\n",
      "Esse número é maior que 20\n",
      "Esse número é maior que 20\n",
      "Esse número é maior que 20\n",
      "Esse número é maior que 20\n",
      "Esse número é maior que 20\n",
      "Esse número é maior que 20\n"
     ]
    }
   ],
   "source": [
    "for num in lista_num:\n",
    "    if num < 20:\n",
    "        print(num)\n",
    "    elif num == 20:\n",
    "        print('Esse número é igal a 20')\n",
    "    else:\n",
    "        print('Esse número é maior que 20')"
   ]
  },
  {
   "attachments": {},
   "cell_type": "markdown",
   "metadata": {},
   "source": [
    "- Crie as seguintes variáveis contendo listas vazias: ate_12, entre_13_e_20, maior_21"
   ]
  },
  {
   "cell_type": "code",
   "execution_count": 6,
   "metadata": {},
   "outputs": [],
   "source": [
    "ate_12 = []\n",
    "entre_13_e_20 = []\n",
    "maior_21 = []"
   ]
  },
  {
   "attachments": {},
   "cell_type": "markdown",
   "metadata": {},
   "source": [
    "- Dentro de um for loop, crie uma estrutura condicional que distribua em cada lista os números seguindo as condições abaixo: \n",
    "1. se o número for menor do que 12, armazene-o na lista ate_12\n",
    "2. se o número estiver entre 13 e 20, amazene-o na lista entre_13_e_20\n",
    "3. se o número for maior do 21, armazene-o na lista maior_21\n",
    "\n"
   ]
  },
  {
   "cell_type": "code",
   "execution_count": 7,
   "metadata": {},
   "outputs": [
    {
     "name": "stdout",
     "output_type": "stream",
     "text": [
      "[0, 1, 2, 3, 4, 5, 6, 7, 8, 9, 10, 11]\n",
      "[12, 13, 14, 15, 16, 17, 18, 19, 20]\n",
      "[22, 23, 24, 25, 26, 27, 28, 29, 30]\n"
     ]
    }
   ],
   "source": [
    "for num in lista_num:\n",
    "    if num < 12:\n",
    "        ate_12.append(num)\n",
    "    elif num >= 12 and num < 21:\n",
    "        entre_13_e_20.append(num)\n",
    "    elif num > 21:\n",
    "        maior_21.append(num)\n",
    "\n",
    "print(ate_12)\n",
    "print(entre_13_e_20)\n",
    "print(maior_21)\n"
   ]
  }
 ],
 "metadata": {
  "kernelspec": {
   "display_name": "Python 3",
   "language": "python",
   "name": "python3"
  },
  "language_info": {
   "codemirror_mode": {
    "name": "ipython",
    "version": 3
   },
   "file_extension": ".py",
   "mimetype": "text/x-python",
   "name": "python",
   "nbconvert_exporter": "python",
   "pygments_lexer": "ipython3",
   "version": "3.10.13"
  },
  "orig_nbformat": 4,
  "vscode": {
   "interpreter": {
    "hash": "916dbcbb3f70747c44a77c7bcd40155683ae19c65e1c03b4aa3499c5328201f1"
   }
  }
 },
 "nbformat": 4,
 "nbformat_minor": 2
}
