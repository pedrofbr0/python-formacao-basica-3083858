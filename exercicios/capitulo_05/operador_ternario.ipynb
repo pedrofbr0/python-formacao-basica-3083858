{
 "cells": [
  {
   "attachments": {},
   "cell_type": "markdown",
   "metadata": {},
   "source": [
    "- Reescreva a estrutura condicional do exercício do arquivo \"if_elif_else.ipynb\" usando operador ternário\n"
   ]
  },
  {
   "cell_type": "code",
   "execution_count": 6,
   "metadata": {},
   "outputs": [
    {
     "name": "stdout",
     "output_type": "stream",
     "text": [
      "[0, 1, 2, 3, 4, 5, 6, 7, 8, 9, 10, 11]\n",
      "[12, 13, 14, 15, 16, 17, 18, 19, 20]\n",
      "[21, 22, 23, 24, 25, 26, 27, 28, 29, 30]\n"
     ]
    }
   ],
   "source": [
    "lista_num = range(31)\n",
    "\n",
    "ate_12 = []\n",
    "entre_13_e_20 = []\n",
    "maior_21 = []\n",
    "\n",
    "\n",
    "[ate_12.append(num) if num < 12 else  entre_13_e_20.append(num) if (num >= 12 and num < 21) else maior_21.append(num) for num in lista_num]\n",
    "\n",
    "print(ate_12)\n",
    "print(entre_13_e_20)\n",
    "print(maior_21)\n"
   ]
  }
 ],
 "metadata": {
  "kernelspec": {
   "display_name": "Python 3",
   "language": "python",
   "name": "python3"
  },
  "language_info": {
   "codemirror_mode": {
    "name": "ipython",
    "version": 3
   },
   "file_extension": ".py",
   "mimetype": "text/x-python",
   "name": "python",
   "nbconvert_exporter": "python",
   "pygments_lexer": "ipython3",
   "version": "3.10.13"
  },
  "orig_nbformat": 4,
  "vscode": {
   "interpreter": {
    "hash": "916dbcbb3f70747c44a77c7bcd40155683ae19c65e1c03b4aa3499c5328201f1"
   }
  }
 },
 "nbformat": 4,
 "nbformat_minor": 2
}
