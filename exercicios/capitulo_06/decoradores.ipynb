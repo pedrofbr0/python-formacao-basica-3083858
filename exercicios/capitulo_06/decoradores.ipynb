{
 "cells": [
  {
   "attachments": {},
   "cell_type": "markdown",
   "metadata": {},
   "source": [
    "- Crie um exemplo de função e em seguida crie um decorador para alterar o seu comportamento"
   ]
  },
  {
   "cell_type": "code",
   "execution_count": 7,
   "metadata": {},
   "outputs": [],
   "source": [
    "def soma(*args):\n",
    "    return print(sum(args))\n",
    "\n",
    "def testeWrapper(func):\n",
    "    def wrapper(*args,**kwargs):\n",
    "        print('Antes de rodar a função')\n",
    "\n",
    "        func(*args,**kwargs)\n",
    "\n",
    "        print('depois de rodar a função')\n",
    "\n",
    "    return wrapper\n",
    "\n",
    "\n",
    "@testeWrapper\n",
    "def somaWrapper(*args):\n",
    "    return print(sum(args))"
   ]
  },
  {
   "attachments": {},
   "cell_type": "markdown",
   "metadata": {},
   "source": [
    "- Execute a função"
   ]
  },
  {
   "cell_type": "code",
   "execution_count": 8,
   "metadata": {},
   "outputs": [
    {
     "name": "stdout",
     "output_type": "stream",
     "text": [
      "3\n",
      "Antes de rodar a função\n",
      "6\n",
      "depois de rodar a função\n"
     ]
    }
   ],
   "source": [
    "soma(1,2)\n",
    "\n",
    "somaWrapper(1,2,3)"
   ]
  }
 ],
 "metadata": {
  "kernelspec": {
   "display_name": "Python 3",
   "language": "python",
   "name": "python3"
  },
  "language_info": {
   "codemirror_mode": {
    "name": "ipython",
    "version": 3
   },
   "file_extension": ".py",
   "mimetype": "text/x-python",
   "name": "python",
   "nbconvert_exporter": "python",
   "pygments_lexer": "ipython3",
   "version": "3.10.13"
  },
  "orig_nbformat": 4,
  "vscode": {
   "interpreter": {
    "hash": "916dbcbb3f70747c44a77c7bcd40155683ae19c65e1c03b4aa3499c5328201f1"
   }
  }
 },
 "nbformat": 4,
 "nbformat_minor": 2
}
