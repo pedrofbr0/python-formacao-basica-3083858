{
 "cells": [
  {
   "attachments": {},
   "cell_type": "markdown",
   "metadata": {},
   "source": [
    "- Crie uma classe\n"
   ]
  },
  {
   "cell_type": "code",
   "execution_count": 1,
   "metadata": {},
   "outputs": [],
   "source": [
    "class Bola:\n",
    "    cor = 'laranja'\n",
    "    def __init__(self):\n",
    "        self.cor = 'branca'\n",
    "        self.raio = 15\n",
    "        self.esporte = 'vôlei'\n",
    "    "
   ]
  },
  {
   "attachments": {},
   "cell_type": "markdown",
   "metadata": {},
   "source": [
    "- Estabeleça variáveis privadas no construtor \n"
   ]
  },
  {
   "cell_type": "code",
   "execution_count": 2,
   "metadata": {},
   "outputs": [],
   "source": [
    "class Bola:\n",
    "    cor = 'laranja'\n",
    "    def __init__(self):\n",
    "        self._cor = 'branca'\n",
    "        self._raio = 15\n",
    "        self._esporte = 'vôlei'\n",
    "    "
   ]
  },
  {
   "attachments": {},
   "cell_type": "markdown",
   "metadata": {},
   "source": [
    "- Crie um método get, que retorne uma das variáveis privadas\n"
   ]
  },
  {
   "cell_type": "code",
   "execution_count": 6,
   "metadata": {},
   "outputs": [
    {
     "data": {
      "text/plain": [
       "'branca'"
      ]
     },
     "execution_count": 6,
     "metadata": {},
     "output_type": "execute_result"
    }
   ],
   "source": [
    "class Bola:\n",
    "    cor = 'laranja'\n",
    "    def __init__(self):\n",
    "        self.cor = 'branca'\n",
    "        self.raio = 15\n",
    "        self.esporte = 'vôlei'\n",
    "    def getCor(self):\n",
    "        return self.cor\n",
    "    \n",
    "teste1 = Bola()\n",
    "\n",
    "teste1.getCor()"
   ]
  },
  {
   "attachments": {},
   "cell_type": "markdown",
   "metadata": {},
   "source": [
    "- Crie um método set, que modifique uma das variáveis privadas\n"
   ]
  },
  {
   "cell_type": "code",
   "execution_count": 9,
   "metadata": {},
   "outputs": [],
   "source": [
    "class Bola:\n",
    "    cor = 'laranja'\n",
    "    def __init__(self):\n",
    "        self.cor = 'branca'\n",
    "        self.raio = 15\n",
    "        self.esporte = 'vôlei'\n",
    "    def getCor(self):\n",
    "        return self.cor\n",
    "    def setCor(self, novaCor = 'verde'):\n",
    "        if novaCor: self.cor = novaCor   "
   ]
  },
  {
   "attachments": {},
   "cell_type": "markdown",
   "metadata": {},
   "source": [
    "- Instancie a classe e imprima na tela a variável antes e depois da modificação\n"
   ]
  },
  {
   "cell_type": "code",
   "execution_count": 11,
   "metadata": {},
   "outputs": [
    {
     "name": "stdout",
     "output_type": "stream",
     "text": [
      "branca\n"
     ]
    },
    {
     "data": {
      "text/plain": [
       "'vermelha'"
      ]
     },
     "execution_count": 11,
     "metadata": {},
     "output_type": "execute_result"
    }
   ],
   "source": [
    "teste2 = Bola()\n",
    "\n",
    "print(teste2.cor) \n",
    "\n",
    "teste2.setCor('vermelha')\n",
    "\n",
    "teste2.cor"
   ]
  }
 ],
 "metadata": {
  "kernelspec": {
   "display_name": "Python 3",
   "language": "python",
   "name": "python3"
  },
  "language_info": {
   "codemirror_mode": {
    "name": "ipython",
    "version": 3
   },
   "file_extension": ".py",
   "mimetype": "text/x-python",
   "name": "python",
   "nbconvert_exporter": "python",
   "pygments_lexer": "ipython3",
   "version": "3.10.13"
  },
  "orig_nbformat": 4,
  "vscode": {
   "interpreter": {
    "hash": "916dbcbb3f70747c44a77c7bcd40155683ae19c65e1c03b4aa3499c5328201f1"
   }
  }
 },
 "nbformat": 4,
 "nbformat_minor": 2
}
