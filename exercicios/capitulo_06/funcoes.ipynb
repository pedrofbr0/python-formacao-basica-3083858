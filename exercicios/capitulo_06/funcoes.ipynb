{
 "cells": [
  {
   "attachments": {},
   "cell_type": "markdown",
   "metadata": {},
   "source": [
    "- Crie uma função que receba como argumento 2 números e 1 operação matemática\n"
   ]
  },
  {
   "cell_type": "code",
   "execution_count": 4,
   "metadata": {},
   "outputs": [
    {
     "name": "stdout",
     "output_type": "stream",
     "text": [
      "3\n"
     ]
    }
   ],
   "source": [
    "def operarDoisNumeros(num1,num2,operacao):\n",
    "    if operacao == 'multiplicação':\n",
    "        return num1 * num2\n",
    "    elif operacao == 'adição':\n",
    "        return num1 + num2\n",
    "    elif operacao == 'subtração':\n",
    "        return num1 - num2\n",
    "    elif operacao == 'divisão':\n",
    "        return num1 / num2   \n",
    "\n",
    "print(operarDoisNumeros(1,2,\"adição\"))"
   ]
  },
  {
   "attachments": {},
   "cell_type": "markdown",
   "metadata": {},
   "source": [
    "- Implemente as funções de soma e multiplicação, nessa função\n"
   ]
  },
  {
   "cell_type": "code",
   "execution_count": 5,
   "metadata": {},
   "outputs": [
    {
     "name": "stdout",
     "output_type": "stream",
     "text": [
      "3\n"
     ]
    }
   ],
   "source": [
    "def operarDoisNumeros(num1,num2,operacao):\n",
    "    if operacao == 'multiplicação':\n",
    "        return num1 * num2\n",
    "    elif operacao == 'adição':\n",
    "        return num1 + num2\n",
    "    elif operacao == 'subtração':\n",
    "        return num1 - num2\n",
    "    elif operacao == 'divisão':\n",
    "        return num1 / num2   \n",
    "\n",
    "print(operarDoisNumeros(1,2,\"adição\"))"
   ]
  },
  {
   "attachments": {},
   "cell_type": "markdown",
   "metadata": {},
   "source": [
    "- Modifique a função para que receba uma quantidade de argumentos não previsível e os imprima na tela\n"
   ]
  },
  {
   "cell_type": "code",
   "execution_count": 6,
   "metadata": {},
   "outputs": [
    {
     "name": "stdout",
     "output_type": "stream",
     "text": [
      "(1, 2, 3, 4)\n"
     ]
    }
   ],
   "source": [
    "def operarDoisNumerosPrint(*num):\n",
    "    print(num)\n",
    "\n",
    "operarDoisNumerosPrint(1,2,3,4)"
   ]
  },
  {
   "attachments": {},
   "cell_type": "markdown",
   "metadata": {},
   "source": [
    "- Use a biblioteca math para otimizar a função\n"
   ]
  },
  {
   "cell_type": "code",
   "execution_count": 7,
   "metadata": {},
   "outputs": [
    {
     "name": "stdout",
     "output_type": "stream",
     "text": [
      "2\n"
     ]
    }
   ],
   "source": [
    "import math\n",
    "\n",
    "def operarDoisNumerosOtimizado(*nums,**kwargs):\n",
    "    for chave, valor in kwargs.items():\n",
    "        if chave == 'operacao' and valor == 'multiplicação':\n",
    "            return math.prod(nums)\n",
    "        elif chave == 'operacao' and valor == 'adição':\n",
    "            return sum(nums)\n",
    "        elif chave == 'operacao' and valor == 'subtração':\n",
    "            pass\n",
    "        elif chave == 'operacao' and valor == 'divisão':\n",
    "            pass   \n",
    "\n",
    "print(operarDoisNumeros(1,2,operacao = 'multiplicação'))"
   ]
  },
  {
   "attachments": {},
   "cell_type": "markdown",
   "metadata": {},
   "source": [
    "- Escreva uma função do tipo lambda"
   ]
  },
  {
   "cell_type": "code",
   "execution_count": 10,
   "metadata": {},
   "outputs": [
    {
     "name": "stdout",
     "output_type": "stream",
     "text": [
      "3\n"
     ]
    }
   ],
   "source": [
    "soma = lambda num1,num2: num1 + num2\n",
    "\n",
    "print(soma(1,2))"
   ]
  }
 ],
 "metadata": {
  "kernelspec": {
   "display_name": "Python 3",
   "language": "python",
   "name": "python3"
  },
  "language_info": {
   "codemirror_mode": {
    "name": "ipython",
    "version": 3
   },
   "file_extension": ".py",
   "mimetype": "text/x-python",
   "name": "python",
   "nbconvert_exporter": "python",
   "pygments_lexer": "ipython3",
   "version": "3.10.13"
  },
  "orig_nbformat": 4,
  "vscode": {
   "interpreter": {
    "hash": "916dbcbb3f70747c44a77c7bcd40155683ae19c65e1c03b4aa3499c5328201f1"
   }
  }
 },
 "nbformat": 4,
 "nbformat_minor": 2
}
